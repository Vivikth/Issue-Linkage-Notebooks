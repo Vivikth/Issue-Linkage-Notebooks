{
 "cells": [
  {
   "cell_type": "code",
   "execution_count": 1,
   "metadata": {},
   "outputs": [
    {
     "name": "stdout",
     "output_type": "stream",
     "text": [
      "Using compiled interpolation routine\n",
      "Using compiled sparse grid routine\n"
     ]
    },
    {
     "data": {
      "application/vnd.jupyter.widget-view+json": {
       "model_id": "b36fef64a2d04853b0a35c19a5aab1cf",
       "version_major": 2,
       "version_minor": 0
      },
      "text/plain": [
       "HBox(children=(IntProgress(value=1, bar_style='info', max=1), HTML(value='')))"
      ]
     },
     "metadata": {},
     "output_type": "display_data"
    },
    {
     "name": "stderr",
     "output_type": "stream",
     "text": [
      "C:\\Users\\University Vivikth\\Anaconda3\\lib\\site-packages\\tqdm\\std.py:648: FutureWarning: The Panel class is removed from pandas. Accessing it from the top-level namespace will also be removed in the next version\n",
      "  from pandas import Panel\n"
     ]
    },
    {
     "name": "stdout",
     "output_type": "stream",
     "text": [
      "\n"
     ]
    }
   ],
   "source": [
    "#The purpose of this notebook is to test some hypotheses the authors had regarding multi-issue distributions\n",
    "# This notebook was used to create the tables for multi-issue distributions in the paper, but was used mainly for testing purposes.\n",
    "\n",
    "\n",
    "#Imports\n",
    "import matplotlib.pyplot as plt\n",
    "import matplotlib as mpl\n",
    "import matplotlib.colors as colors\n",
    "import numpy as np\n",
    "import pacal as pa\n",
    "from mpl_toolkits.mplot3d import Axes3D  \n",
    "from skimage import measure\n",
    "%matplotlib inline\n",
    "\n",
    "from astropy.table import QTable, Table, Column\n",
    "from astropy import units as u\n",
    "import astropy as astropy\n",
    "import numpy as np\n",
    "import pandas as pd\n",
    "from tqdm import tqdm_notebook as tqdm\n",
    "tqdm().pandas()\n",
    "\n",
    "mean = 5\n",
    " "
   ]
  },
  {
   "cell_type": "code",
   "execution_count": 2,
   "metadata": {},
   "outputs": [],
   "source": [
    "def sorted_k_partitions(seq, k):\n",
    "    \"\"\"Returns a list of all unique k-partitions of `seq`.\n",
    "\n",
    "    Each partition is a list of parts, and each part is a tuple.\n",
    "\n",
    "    The parts in each individual partition will be sorted in shortlex\n",
    "    order (i.e., by length first, then lexicographically).\n",
    "\n",
    "    The overall list of partitions will then be sorted by the length\n",
    "    of their first part, the length of their second part, ...,\n",
    "    the length of their last part, and then lexicographically.\n",
    "    \"\"\"\n",
    "    n = len(seq)\n",
    "    groups = []  # a list of lists, currently empty\n",
    "\n",
    "    def generate_partitions(i):\n",
    "        if i >= n:\n",
    "            yield list(map(tuple, groups))\n",
    "        else:\n",
    "            if n - i > k - len(groups):\n",
    "                for group in groups:\n",
    "                    group.append(seq[i])\n",
    "                    yield from generate_partitions(i + 1)\n",
    "                    group.pop()\n",
    "\n",
    "            if len(groups) < k:\n",
    "                groups.append([seq[i]])\n",
    "                yield from generate_partitions(i + 1)\n",
    "                groups.pop()\n",
    "\n",
    "    result = generate_partitions(0)\n",
    "\n",
    "    # Sort the parts in each partition in shortlex order\n",
    "    #result = [sorted(ps, key = lambda p: (len(p), p)) for ps in result]\n",
    "    # Sort partitions by the length of each part, then lexicographically.\n",
    "    #result = sorted(result, key = lambda ps: (*map(len, ps), ps))\n",
    "    result = [ps for ps in result]\n",
    "    return result\n",
    "\n",
    "#Finds global optimum pooling arrangement for a given list of distributions\n",
    "def global_optimum_finder(distributions):\n",
    "\n",
    "    max_split_value = 0\n",
    "    for indx, dist in enumerate(distributions):\n",
    "        Combinations = sorted_k_partitions(distributions, indx + 1)\n",
    "        max_combo_val = 0 #Make a best combination tuple.\n",
    "        for combo in Combinations:\n",
    "            #agree\n",
    "            current_combo_val = 0\n",
    "            for agreement in combo:\n",
    "                    currrent_agreement_val = 0\n",
    "                    for andx, issue in enumerate(agreement):\n",
    "                        if andx == 0:\n",
    "                            agr_pool = issue\n",
    "                        else:\n",
    "                            agr_pool += issue\n",
    "                    agr_pool_pos = agr_pool | pa.Gt(0)\n",
    "                    current_agreement_val = agr_pool.ccdf_value(0) * agr_pool_pos.mean() * agr_pool.ccdf_value(0)\n",
    "                    current_combo_val += current_agreement_val\n",
    "            if current_combo_val > max_combo_val:\n",
    "                max_combo = combo\n",
    "                max_combo_val = current_combo_val\n",
    "                #print(current_combo_val, combo, '\\n')\n",
    "        if max_combo_val > max_split_value:\n",
    "            max_split_value = max_combo_val\n",
    "            best_split_combo = max_combo\n",
    "            \n",
    "    return best_split_combo, max_split_value\n",
    "                #Can figure out expected value of each agreement.\n",
    "                #Sum to get value of combo.\n",
    "                #Pick best combo.\n",
    "                #Want to store Combo.\n",
    "\n",
    "#Determins the support of a distribution\n",
    "def Support_Getter(dist):\n",
    "    if type(dist) ==  pa.standard_distr.UniformDistr:\n",
    "        return np.sqrt(3 * dist.var())\n",
    "    elif type(dist) == pa.standard_distr.NormalDistr:\n",
    "        return dist.std()\n",
    "\n",
    "def pretty_table(optimal_agreement_list):\n",
    "    t = Table()\n",
    "\n",
    "    for indx, agreement in enumerate(optimal_agreement_list):\n",
    "        supports = [Support_Getter(issue) for issue in optimal_agreement_list[indx]]\n",
    "        string = ' '\n",
    "        for s in supports:\n",
    "            string += (str(s) + ' , ')\n",
    "        t['Agreement ' + str(indx) ] = [string]\n",
    "\n",
    "    return t"
   ]
  },
  {
   "cell_type": "code",
   "execution_count": 3,
   "metadata": {},
   "outputs": [
    {
     "data": {
      "text/html": [
       "<i>Table length=1</i>\n",
       "<table id=\"table1831440187272\" class=\"table-striped table-bordered table-condensed\">\n",
       "<thead><tr><th>Agreement 0</th></tr></thead>\n",
       "<thead><tr><th>str85</th></tr></thead>\n",
       "<tr><td>0.14999999999999997 , 0.14999999999999997 , 7.999999999999999 , 7.999999999999999 ,</td></tr>\n",
       "</table>"
      ],
      "text/plain": [
       "<Table length=1>\n",
       "                                     Agreement 0                                     \n",
       "                                        str85                                        \n",
       "-------------------------------------------------------------------------------------\n",
       " 0.14999999999999997 , 0.14999999999999997 , 7.999999999999999 , 7.999999999999999 , "
      ]
     },
     "execution_count": 3,
     "metadata": {},
     "output_type": "execute_result"
    }
   ],
   "source": [
    "\n",
    "obj = pa.NormalDistr(5, 0.15)\n",
    "obj2 = pa.NormalDistr(5, 0.15)\n",
    "obj3 = pa.NormalDistr(5, 8)\n",
    "obj4 = pa.NormalDistr(5, 8)\n",
    "\n",
    "\n",
    "disti = [obj, obj2, obj3, obj4]\n",
    "\n",
    "optimal_agreement_list = global_optimum_finder(disti)[0]\n",
    "pretty_table(optimal_agreement_list)"
   ]
  },
  {
   "cell_type": "code",
   "execution_count": 4,
   "metadata": {},
   "outputs": [],
   "source": [
    "def col(s):\n",
    "    obj = pa.UniformDistr(5 - s, 5 + s)\n",
    "    obj2 = pa.UniformDistr(5 - s, 5 + s)\n",
    "    obj3 = pa.UniformDistr(5 - s, 5 + s)\n",
    "    obj4 = pa.UniformDistr(5 - s, 5 + s)\n",
    "\n",
    "\n",
    "    disti = [obj, obj2, obj3, obj4]\n",
    "\n",
    "    optimal_agreement_list = global_optimum_finder(disti)[0]\n",
    "    t = pretty_table(optimal_agreement_list)\n",
    "    return len(t.colnames)"
   ]
  },
  {
   "cell_type": "code",
   "execution_count": 5,
   "metadata": {},
   "outputs": [
    {
     "data": {
      "text/plain": [
       "[(Normal(5,0.15)#1831440091592, Normal(5,0.15)#1831440092872)]"
      ]
     },
     "execution_count": 5,
     "metadata": {},
     "output_type": "execute_result"
    }
   ],
   "source": [
    "obj3 = pa.NormalDistr(5, 0.15)\n",
    "obj4 = pa.NormalDistr(5, 0.15)\n",
    "global_optimum_finder([obj3, obj4])[0]"
   ]
  },
  {
   "cell_type": "code",
   "execution_count": 6,
   "metadata": {},
   "outputs": [
    {
     "data": {
      "text/html": [
       "<i>Table length=1</i>\n",
       "<table id=\"table1831439924872\" class=\"table-striped table-bordered table-condensed\">\n",
       "<thead><tr><th>Agreement 0</th><th>Agreement 1</th><th>Agreement 2</th></tr></thead>\n",
       "<thead><tr><th>str29</th><th>str27</th><th>str8</th></tr></thead>\n",
       "<tr><td>15.199999999999996 , 15.3 ,</td><td>5.1 , 5.199999999999999 ,</td><td>30.0 ,</td></tr>\n",
       "</table>"
      ],
      "text/plain": [
       "<Table length=1>\n",
       "         Agreement 0                  Agreement 1         Agreement 2\n",
       "            str29                        str27                str8   \n",
       "----------------------------- --------------------------- -----------\n",
       " 15.199999999999996 , 15.3 ,   5.1 , 5.199999999999999 ,      30.0 , "
      ]
     },
     "execution_count": 6,
     "metadata": {},
     "output_type": "execute_result"
    }
   ],
   "source": [
    "obj = pa.UniformDistr(5 - 15.2, 5 + 15.2)\n",
    "obj2 = pa.UniformDistr(5 - 5.1, 5 + 5.1)\n",
    "obj3 = pa.UniformDistr(5 - 5.2, 5 + 5.2)\n",
    "obj4 = pa.UniformDistr(5 - 15.3, 5 + 15.3)\n",
    "obj5 = pa.UniformDistr(5 - 30, 5 + 30)\n",
    "\n",
    "\n",
    "disti = [obj, obj2, obj3, obj4, obj5]\n",
    "\n",
    "optimal_agreement_list = global_optimum_finder(disti)[0]\n",
    "pretty_table(optimal_agreement_list)"
   ]
  }
 ],
 "metadata": {
  "kernelspec": {
   "display_name": "Python 3",
   "language": "python",
   "name": "python3"
  },
  "language_info": {
   "codemirror_mode": {
    "name": "ipython",
    "version": 3
   },
   "file_extension": ".py",
   "mimetype": "text/x-python",
   "name": "python",
   "nbconvert_exporter": "python",
   "pygments_lexer": "ipython3",
   "version": "3.7.4"
  }
 },
 "nbformat": 4,
 "nbformat_minor": 2
}
